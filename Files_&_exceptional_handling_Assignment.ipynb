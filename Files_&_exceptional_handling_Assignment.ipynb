{
  "nbformat": 4,
  "nbformat_minor": 0,
  "metadata": {
    "colab": {
      "provenance": []
    },
    "kernelspec": {
      "name": "python3",
      "display_name": "Python 3"
    },
    "language_info": {
      "name": "python"
    }
  },
  "cells": [
    {
      "cell_type": "markdown",
      "source": [
        "#Files & exceptional handling:-"
      ],
      "metadata": {
        "id": "ysK31e7U4bO1"
      }
    },
    {
      "cell_type": "markdown",
      "source": [
        "#Theory:-"
      ],
      "metadata": {
        "id": "tU-aiKLM4ha5"
      }
    },
    {
      "cell_type": "markdown",
      "source": [
        "1.What is the difference between interpreted and compiled languages?\n",
        " - The main difference between interpreted and compiled languages lies in how they are executed:\n",
        "\n",
        "   a. Interpreted languages: The source code is executed line-by-line by an interpreter at runtime. No intermediate machine code is generated. Examples include Python and JavaScript.\n",
        "\n",
        "   b. Compiled languages: The source code is translated into machine code by a compiler before execution. This produces a standalone executable file. Examples include C and C++.\n",
        "\n",
        "2.  What is exception handling in Python?\n",
        " - Exception handling in Python refers to the mechanism used to manage runtime errors or exceptions, preventing the program from crashing. It allows you to catch and handle errors gracefully using try, except, else, and finally blocks.\n",
        "\n",
        "      - try block: Contains code that might raise an exception.\n",
        "\n",
        "      - except block: Catches and handles the exception.\n",
        "\n",
        "      - else block: Executes if no exception occurs in the try block.\n",
        "\n",
        "      - finally block: Executes no matter what, used for cleanup actions.\n",
        "\n",
        "3. What is the purpose of the finally block in exception handling?\n",
        " - The purpose of the finally block in exception handling is to ensure that certain code is always executed, regardless of whether an exception occurs or not. It is typically used for cleanup actions, such as closing files, releasing resources, or restoring the system to a stable state.\n",
        "\n",
        "4. What is logging in Python?\n",
        " - Logging in Python is a way to record messages or events that occur during the execution of a program. It helps developers track the program's behavior, troubleshoot issues, and monitor performance. The logging module provides a flexible framework for generating log messages with different severity levels, such as:\n",
        "\n",
        "        - DEBUG: Detailed information, typically for diagnosing problems.\n",
        "\n",
        "        - INFO: General information about the program's operation.\n",
        "\n",
        "        - WARNING: Indicates something unexpected, but the program continues running.\n",
        "\n",
        "        - ERROR: An error that prevents part of the program from functioning correctly.\n",
        "\n",
        "        - CRITICAL: A severe error that may cause the program to stop.\n",
        "\n",
        "5. What is the significance of the __del__ method in Python?\n",
        " - The __del__ method in Python is a special method used for destruction or cleanup of objects when they are about to be destroyed. It is called when an object’s reference count drops to zero, typically when it goes out of scope or is explicitly deleted. This allows the programmer to release external resources (e.g., files, network connections) before the object is removed from memory.\n",
        "\n",
        "    However, the use of __del__ is generally discouraged because its exact timing is not guaranteed, due to Python's garbage collection mechanism. It's better to use context managers (with statement) or explicit resource management for cleanup.\n",
        "\n",
        "6. What is the difference between import and from ... import in Python?\n",
        " - The difference between import and from ... import in Python lies in how you access the functions, classes, or variables from a module."
      ],
      "metadata": {
        "id": "nqjwMgU24kZj"
      }
    },
    {
      "cell_type": "code",
      "source": [
        "#  a. import: This imports the entire module; we can access its contents using the module name.\n",
        "   #example:-\n",
        "import math\n",
        "print(math.sqrt(16))"
      ],
      "metadata": {
        "colab": {
          "base_uri": "https://localhost:8080/"
        },
        "id": "BO1O-lEu6skS",
        "outputId": "602b2f8c-4dda-476e-e0ba-f831b71e87a7"
      },
      "execution_count": 2,
      "outputs": [
        {
          "output_type": "stream",
          "name": "stdout",
          "text": [
            "4.0\n"
          ]
        }
      ]
    },
    {
      "cell_type": "code",
      "source": [
        "#  b. from ... import: This allows you to import specific functions, classes, or variables directly, without needing to reference the module name.\n",
        "   #example:-\n",
        "from math import sqrt\n",
        "print(sqrt(16))"
      ],
      "metadata": {
        "colab": {
          "base_uri": "https://localhost:8080/"
        },
        "id": "UlbKpmFI63Xp",
        "outputId": "a4fab8ba-23cb-446c-b208-a31de96c6cf8"
      },
      "execution_count": 4,
      "outputs": [
        {
          "output_type": "stream",
          "name": "stdout",
          "text": [
            "4.0\n"
          ]
        }
      ]
    },
    {
      "cell_type": "markdown",
      "source": [
        "7. How can you handle multiple exceptions in Python?\n",
        " - In Python, you can handle multiple exceptions by specifying multiple except blocks or by using a tuple to catch different exceptions in a single except block.\n",
        "     - Using multiple except blocks: Each except block handles a specific exception type.\n",
        "     - Using a tuple to catch multiple exceptions: You can group multiple exceptions in a tuple within a single except block.\n",
        "\n",
        "    Both methods allow us to handle different exceptions appropriately in our code.\n",
        "\n",
        "8. What is the purpose of the with statement when handling files in Python?\n",
        " - The with statement in Python is used to handle files (and other resources) efficiently by ensuring proper resource management. It automatically takes care of opening and closing the file, even if an exception occurs within the block. This is achieved through context management, which helps prevent resource leaks like leaving files open unintentionally.\n",
        "\n",
        "    The with statement ensures that the file is properly closed once the block is exited, whether normally or due to an exception. This makes file handling cleaner and safer.\n",
        "\n",
        "9. What is the difference between multithreading and multiprocessing?\n",
        " - The main difference between multithreading and multiprocessing lies in how they handle tasks and utilize system resources:\n",
        "\n",
        "      - Multithreading: Involves multiple threads within a single process. Threads share the same memory space, which allows for efficient communication but can lead to issues like race conditions. It is ideal for I/O-bound tasks, where the program spends time waiting for external resources (e.g., reading from a file or network).\n",
        "\n",
        "      - Multiprocessing: Involves multiple processes, each with its own memory space. It is used to execute CPU-bound tasks in parallel, taking full advantage of multiple CPU cores. Since each process runs independently, there's no shared memory, avoiding race conditions, but inter-process communication is more complex.\n",
        "\n",
        "10. What are the advantages of using logging in a program?\n",
        " - Using logging in a program offers several advantages:\n",
        "\n",
        "     - Debugging: Logs provide detailed information about the program's execution, which helps in diagnosing and troubleshooting issues.\n",
        "\n",
        "     - Tracking Program Flow: Logging allows you to track the flow of the program, making it easier to understand how different parts of the program are behaving over time.\n",
        "\n",
        "     - Monitoring: In production environments, logs can be used to monitor the health of the application, track performance, and detect potential issues before they become critical.\n",
        "\n",
        "     - Persistence: Logs can be stored in files or databases, allowing us to maintain a history of events for later review or auditing.\n",
        "\n",
        "     - Severity Levels: Logging allows you to categorize messages by severity (e.g., DEBUG, INFO, WARNING, ERROR), making it easy to filter messages based on their importance.\n",
        "\n",
        "     - Non-intrusive: Unlike print statements, logging doesn't require removing code after development and can be easily controlled (e.g., turning off debug messages in production).\n",
        "\n",
        "11. What is memory management in Python?\n",
        " - Memory management in Python refers to the process of efficiently allocating and deallocating memory for objects and data structures during program execution. Python uses automatic memory management, which includes:\n",
        "\n",
        "     - Garbage Collection: Python automatically handles memory cleanup through reference counting and cyclic garbage collection. When objects are no longer referenced, they are deallocated, freeing memory.\n",
        "\n",
        "     - Reference Counting: Each object in Python has a reference count. When the count drops to zero (i.e., no references exist), the object is deleted and memory is freed.\n",
        "\n",
        "     - Cyclic Garbage Collection: Python also detects and collects objects involved in reference cycles (where objects reference each other) that cannot be cleared by reference counting alone.\n",
        "\n",
        "     - Memory Pooling: Python uses an internal memory manager (like pymalloc) to allocate memory in blocks, optimizing allocation and deallocation of small objects.\n",
        "\n",
        "12. What are the basic steps involved in exception handling in Python?\n",
        " - The basic steps involved in exception handling in Python are:\n",
        "\n",
        "     - Try block: You write the code that may raise an exception inside the try block.\n",
        "     - Except block: If an exception occurs in the try block, the program will jump to the except block, where you can handle the error.\n",
        "     - Else block (optional): If no exception occurs in the try block, the else block (if present) will execute.\n",
        "     - Finally block (optional): This block is always executed, regardless of whether an exception occurred or not. It’s typically used for cleanup, such as closing files or releasing resources."
      ],
      "metadata": {
        "id": "mk3L99U37M5q"
      }
    },
    {
      "cell_type": "code",
      "source": [
        "#example:-\n",
        "try:\n",
        "    result = 10 / 0\n",
        "except ZeroDivisionError:\n",
        "    print(\"Cannot divide by zero!\")\n",
        "else:\n",
        "    print(\"No errors occurred.\")\n",
        "finally:\n",
        "    print(\"Execution completed.\")\n"
      ],
      "metadata": {
        "colab": {
          "base_uri": "https://localhost:8080/"
        },
        "id": "IyFxUejg-ZJ6",
        "outputId": "ec9dd8e4-c8e8-4349-f303-63769180de35"
      },
      "execution_count": 11,
      "outputs": [
        {
          "output_type": "stream",
          "name": "stdout",
          "text": [
            "Cannot divide by zero!\n",
            "Execution completed.\n"
          ]
        }
      ]
    },
    {
      "cell_type": "markdown",
      "source": [
        "13.  Why is memory management important in Python?\n",
        " - Memory management is important in Python for several reasons:\n",
        "\n",
        "      - Efficient Resource Utilization: Proper memory management ensures that memory is allocated and deallocated efficiently, avoiding memory leaks or excessive memory usage, which can slow down or crash programs.\n",
        "\n",
        "      - Automatic Garbage Collection: Python’s garbage collection system helps reclaim memory by deleting objects that are no longer in use, which optimizes performance and prevents memory exhaustion.\n",
        "\n",
        "      - Performance Optimization: Effective memory management helps maintain the speed and responsiveness of the application, especially in resource-intensive tasks.\n",
        "\n",
        "      - Avoiding Memory Leaks: Without proper memory management, objects may remain in memory even when they're no longer needed, consuming resources unnecessarily and degrading performance.\n",
        "\n",
        "      - Scalability: As programs grow, proper memory management ensures they scale efficiently, handling large amounts of data or users without crashing or consuming excessive resources.\n",
        "\n",
        "14. What is the role of try and except in exception handling?\n",
        " - In exception handling, try and except serve the following roles:\n",
        "\n",
        "     - try block: This is where we write the code that might raise an exception. Python will attempt to execute the code inside the try block.\n",
        "\n",
        "     - except block: If an exception occurs within the try block, the program jumps to the except block to handle the error. We can specify the type of exception you want to catch and define the handling logic.\n",
        "\n",
        "15. How does Python's garbage collection system work?\n",
        " - Python's garbage collection system works primarily through reference counting and cyclic garbage collection:\n",
        "\n",
        "     - Reference Counting: Every object in Python has a reference count, which tracks how many references (variables, data structures) point to that object. When the reference count drops to zero (i.e., no references to the object), the object is automatically deleted, and its memory is freed.\n",
        "\n",
        "     - Cyclic Garbage Collection: Reference counting alone cannot handle circular references (e.g., when two objects reference each other). Python's garbage collector detects and collects objects involved in reference cycles, ensuring that memory is freed even when objects reference each other.\n",
        "\n",
        "     Python's gc module can be used to manually control and monitor the garbage collection process.\n",
        "\n",
        "16. What is the purpose of the else block in exception handling?\n",
        " - The else block in exception handling is used to define code that should run only if no exceptions occur in the try block. It allows us to separate the \"normal\" code (when no error happens) from the error-handling code.\n",
        "   \n",
        "     In the below case, the code in the else block executes only if no exception (like ZeroDivisionError) is raised in the try block. It helps improve code readability and clarity by distinguishing between error handling and normal flow."
      ],
      "metadata": {
        "id": "jx4d5cks8n6D"
      }
    },
    {
      "cell_type": "code",
      "source": [
        "#example:-\n",
        "try:\n",
        "    result = 10 / 2\n",
        "except ZeroDivisionError:\n",
        "    print(\"Cannot divide by zero!\")\n",
        "else:\n",
        "    print(\"Division successful, result:\", result)\n"
      ],
      "metadata": {
        "colab": {
          "base_uri": "https://localhost:8080/"
        },
        "id": "lTTnmTYaA5iC",
        "outputId": "9b565ea3-bb8d-43a9-f8fc-1acff0972a46"
      },
      "execution_count": 12,
      "outputs": [
        {
          "output_type": "stream",
          "name": "stdout",
          "text": [
            "Division successful, result: 5.0\n"
          ]
        }
      ]
    },
    {
      "cell_type": "markdown",
      "source": [
        "17. What are the common logging levels in Python?\n",
        " - In Python, the common logging levels (from lowest to highest severity) are:\n",
        "\n",
        "     - DEBUG: Detailed information, typically useful for diagnosing problems. It includes everything, including variable values and function calls.\n",
        "\n",
        "     - INFO: General information about the program's operation, indicating normal functioning (e.g., \"Task completed successfully\").\n",
        "\n",
        "     - WARNING: Indicates that something unexpected happened, but the program is still running as expected (e.g., deprecated functions or minor issues).\n",
        "\n",
        "     - ERROR: An error that caused a failure in a specific part of the program, but the program is still running (e.g., missing file or invalid input).\n",
        "\n",
        "     - CRITICAL: A severe error that may cause the program to stop completely (e.g., system crash, out of memory).\n",
        "\n",
        "18. What is the difference between os.fork() and multiprocessing in Python?\n",
        " - The key differences between os.fork() and multiprocessing in Python are:\n",
        "\n",
        "     a. Platform Compatibility:\n",
        "\n",
        "       - os.fork(): Works only on Unix-like systems (Linux, macOS), not on Windows.\n",
        "       - multiprocessing: Cross-platform, works on both Unix and Windows.\n",
        "\n",
        "     b. Process Creation:\n",
        "\n",
        "       - os.fork(): Creates a child process by duplicating the parent process. Both processes share the same memory space initially (using Copy-On-Write).\n",
        "\n",
        "       - multiprocessing: Creates completely independent processes with separate memory spaces, avoiding shared memory issues.\n",
        "\n",
        "     c. Ease of Use:\n",
        "\n",
        "       - os.fork(): Low-level, requires manual handling of process synchronization and communication.\n",
        "\n",
        "       - multiprocessing: High-level API with built-in support for inter-process communication (IPC), synchronization, and parallel execution.\n",
        "\n",
        "     d. Use Case:\n",
        "\n",
        "       - os.fork(): Used for low-level process control in Unix systems.\n",
        "\n",
        "       - multiprocessing: Designed for parallelism in Python programs, making it easier to work with multiple processes.\n",
        "\n",
        "19. What is the importance of closing a file in Python?\n",
        " - Closing a file in Python is important for the following reasons:\n",
        "\n",
        "     - Resource Management: Closing a file releases the system resources (such as memory and file handles) that were allocated for it, preventing resource leaks.\n",
        "\n",
        "     - Data Integrity: When a file is closed, any changes or data buffered in memory are properly written to the file, ensuring that no data is lost.\n",
        "\n",
        "     - Avoiding File Locking: On some systems, leaving files open can result in file locks or access conflicts. Closing the file releases any such locks.\n",
        "\n",
        "     - Prevention of Errors: Keeping a file open unnecessarily can lead to errors or unexpected behavior in the program.\n",
        "\n",
        "     Using a with statement (context manager) ensures that files are automatically closed after use, even if an exception occurs. This is the recommended practice in Python.\n",
        "\n",
        "20. What is the difference between file.read() and file.readline() in Python?\n",
        " - The difference between file.read() and file.readline() in Python is as follows:\n",
        "\n",
        "     a. file.read():\n",
        "\n",
        "      - Reads the entire content of the file as a single string.\n",
        "\n",
        "      - It reads all lines in the file at once, including newlines.\n",
        "\n",
        "      - Useful when you need the whole file's content at once.\n",
        "    \n",
        "     b. file.readline():\n",
        "\n",
        "      - Reads the next line of the file as a string.\n",
        "\n",
        "      - It reads one line at a time, including the newline character at the end of the line.\n",
        "\n",
        "      - Useful for reading large files line-by-line or iterating over lines.\n",
        "\n",
        "21. What is the logging module in Python used for?\n",
        " - The logging module in Python is used for tracking and recording events that occur during the execution of a program. It helps developers monitor, debug, and analyze the behavior of applications by generating log messages with varying levels of severity (e.g., DEBUG, INFO, WARNING, ERROR, CRITICAL).\n",
        "\n",
        "      Key features of the logging module:\n",
        "\n",
        "        - Logging Levels: Control the granularity of log messages (e.g., debugging details or critical errors).\n",
        "\n",
        "        - Multiple Outputs: Logs can be written to different outputs, like the console, files, or remote servers.\n",
        "\n",
        "        - Formatting: Customize the format of log messages to include timestamps, severity levels, etc.\n",
        "\n",
        "        - Configurable: Supports configuration via code or configuration files to adjust logging behavior (e.g., log level, output destination)."
      ],
      "metadata": {
        "id": "rWy9ROB_BAYI"
      }
    },
    {
      "cell_type": "code",
      "source": [
        "#example:-\n",
        "import logging\n",
        "logging.basicConfig(level=logging.INFO)\n",
        "logging.info(\"This is an info message.\")\n",
        "logging.error(\"This is an error message.\")\n"
      ],
      "metadata": {
        "colab": {
          "base_uri": "https://localhost:8080/"
        },
        "id": "aaJtK4oVECW_",
        "outputId": "d24a523e-c500-485b-a4f5-bed1dac38459"
      },
      "execution_count": 17,
      "outputs": [
        {
          "output_type": "stream",
          "name": "stderr",
          "text": [
            "ERROR:root:This is an error message.\n"
          ]
        }
      ]
    },
    {
      "cell_type": "markdown",
      "source": [
        "22. What is the os module in Python used for in file handling?\n",
        " - The os module in Python is used for interacting with the operating system, and it provides various functions for file handling tasks. Some of the key operations it supports are:\n",
        "\n",
        "     a. File and Directory Manipulation:\n",
        "\n",
        "       - os.rename(): Rename a file or directory.\n",
        "\n",
        "       - os.remove(): Delete a file.\n",
        "        \n",
        "       - os.mkdir(): Create a directory.\n",
        "\n",
        "       - os.rmdir(): Remove an empty directory.\n",
        "\n",
        "       - os.path.exists(): Check if a file or directory exists.\n",
        "\n",
        "      b. Path Operations:\n",
        "\n",
        "       - os.path.join(): Join paths in a platform-independent way.\n",
        "\n",
        "       - os.path.abspath(): Get the absolute path of a file.\n",
        "\n",
        "       - os.path.isfile() and os.path.isdir(): Check if a path is a file or directory.\n",
        "\n",
        "      c. Working with the Current Directory:\n",
        "\n",
        "       - os.getcwd(): Get the current working directory.\n",
        "\n",
        "       - os.chdir(): Change the current working directory.\n",
        "\n",
        "      d. File Permissions:\n",
        "\n",
        "       - os.chmod(): Change file permissions.\n",
        "\n",
        "       - os.chown(): Change file ownership.\n",
        "\n",
        "23. What are the challenges associated with memory management in Python?\n",
        " - Memory management in Python poses challenges such as:\n",
        "\n",
        "     - Garbage Collection: Cyclic references may not be promptly detected, causing potential memory leaks.\n",
        "\n",
        "     - Memory Overhead: Python's dynamic nature increases memory usage compared to lower-level languages.\n",
        "\n",
        "     - Automatic Memory Management: Garbage collection may not release memory immediately, leading to higher memory usage over time.\n",
        "\n",
        "     - Large Objects: Handling large datasets can cause memory fragmentation and inefficiency.\n",
        "\n",
        "     - Memory Leaks: Complex reference cycles with custom __del__ methods can lead to memory leaks.\n",
        "\n",
        "     - Limited Control: Developers have less control over memory allocation and deallocation.\n",
        "\n",
        "     In summary, while Python handles most memory management automatically, issues like garbage collection delays, high memory overhead, and complex reference cycles can lead to inefficiencies or memory leaks.\n",
        "\n",
        "24.  How do you raise an exception manually in Python?\n",
        " - In Python, you can raise an exception manually using the raise statement. You can either raise a built-in exception or create a custom exception.\n",
        "     \n",
        "       Syntax:\n",
        "       - raise ExceptionType(\"Error message\")\n",
        "       \n",
        "       Example with a built-in exception:\n",
        "       - raise ValueError(\"Invalid input!\")\n",
        "\n",
        "       Example with a custom exception:\n",
        "       - class CustomError(Exception):\n",
        "\n",
        "         pass\n",
        "\n",
        "         raise CustomError(\"This is a custom error!\")\n",
        "\n",
        "      The raise statement allows us to trigger exceptions deliberately, which is useful for error handling and custom validation in our code.\n",
        "\n",
        "25. Why is it important to use multithreading in certain applications?\n",
        " - Multithreading is important in certain applications for the following reasons:\n",
        "\n",
        "     - Improved Performance: Multithreading allows tasks to run concurrently, utilizing multiple CPU cores, which can lead to better performance, especially in I/O-bound tasks like reading files, web requests, or database operations.\n",
        "\n",
        "     - Responsiveness: In applications with a user interface (UI), multithreading keeps the UI responsive by running time-consuming tasks in the background, preventing the UI from freezing.\n",
        "\n",
        "     - Parallelism: It enables parallel execution of independent tasks, which is beneficial for handling large-scale computations or simultaneous processes.\n",
        "\n",
        "     - Efficient Resource Utilization: Multithreading maximizes CPU usage, especially in tasks that involve waiting (e.g., network or disk I/O), where threads can perform other work while waiting for I/O operations to complete.\n",
        "\n",
        ""
      ],
      "metadata": {
        "id": "IMni3pNQEKib"
      }
    },
    {
      "cell_type": "markdown",
      "source": [
        "#Practical:-"
      ],
      "metadata": {
        "id": "pMr3GTCDIKiw"
      }
    },
    {
      "cell_type": "code",
      "source": [
        "#1. How can you open a file for writing in Python and write a string to it?"
      ],
      "metadata": {
        "id": "FdMnzBPtIUjY"
      },
      "execution_count": null,
      "outputs": []
    },
    {
      "cell_type": "code",
      "source": [
        "#answer:-\n",
        "# Open the file for writing (it will create the file if it doesn't exist)\n",
        "with open('file.txt', 'w') as file:\n",
        "    # Writing a string to the file\n",
        "    file.write(\"Hello, world!\")"
      ],
      "metadata": {
        "id": "hvNsTBbnIXuX"
      },
      "execution_count": 25,
      "outputs": []
    },
    {
      "cell_type": "code",
      "source": [
        "#2. Write a Python program to read the contents of a file and print each line."
      ],
      "metadata": {
        "id": "z3A_ZlldJHdG"
      },
      "execution_count": 21,
      "outputs": []
    },
    {
      "cell_type": "code",
      "source": [
        "#answer:-\n",
        "# Open the file for reading\n",
        "with open('file.txt', 'r') as file:\n",
        "    # Reading each line and print it\n",
        "    for line in file:\n",
        "        print(line.strip())  # .strip() removes leading/trailing whitespace\n"
      ],
      "metadata": {
        "colab": {
          "base_uri": "https://localhost:8080/"
        },
        "id": "T8IRpRwnJUnX",
        "outputId": "b29d4e40-94a3-41b1-f4f6-0ef6176139d6"
      },
      "execution_count": 26,
      "outputs": [
        {
          "output_type": "stream",
          "name": "stdout",
          "text": [
            "Hello, world!\n"
          ]
        }
      ]
    },
    {
      "cell_type": "code",
      "source": [
        "#3. How would you handle a case where the file doesn't exist while trying to open it for reading?"
      ],
      "metadata": {
        "id": "xaiE0-L7JZVA"
      },
      "execution_count": null,
      "outputs": []
    },
    {
      "cell_type": "code",
      "source": [
        "#answer:-\n",
        "try:\n",
        "    # Trying to open the file for reading\n",
        "    with open('file.txt', 'r') as file:\n",
        "        # Read and print each line\n",
        "        for line in file:\n",
        "            print(line.strip())\n",
        "except FileNotFoundError:\n",
        "    print(\"Error: The file does not exist.\")\n"
      ],
      "metadata": {
        "colab": {
          "base_uri": "https://localhost:8080/"
        },
        "id": "XI8WlXMVJj0Y",
        "outputId": "e4492e85-7775-4b1c-d997-f7f55853cee7"
      },
      "execution_count": 27,
      "outputs": [
        {
          "output_type": "stream",
          "name": "stdout",
          "text": [
            "Hello, world!\n"
          ]
        }
      ]
    },
    {
      "cell_type": "code",
      "source": [
        "#4. Write a Python script that reads from one file and writes its content to another file."
      ],
      "metadata": {
        "id": "TYBeDfjyJoLq"
      },
      "execution_count": null,
      "outputs": []
    },
    {
      "cell_type": "code",
      "source": [
        "#answer:-\n",
        "# Open the source file for reading and the destination file for writing\n",
        "with open('source_file.txt', 'r') as source_file:\n",
        "    with open('destination_file.txt', 'w') as destination_file:\n",
        "        # Read the content from the source file and write it to the destination file\n",
        "        content = source_file.read()\n",
        "        destination_file.write(content)\n",
        "\n",
        "print(\"Content copied successfully!\")\n"
      ],
      "metadata": {
        "id": "_0OBMygTJ8_G"
      },
      "execution_count": null,
      "outputs": []
    },
    {
      "cell_type": "code",
      "source": [
        "#5. How would you catch and handle division by zero error in Python?"
      ],
      "metadata": {
        "id": "Jtd2QAdsK_gE"
      },
      "execution_count": null,
      "outputs": []
    },
    {
      "cell_type": "code",
      "source": [
        "#answer:-\n",
        "try:\n",
        "    # Attempt division\n",
        "    numerator = 10\n",
        "    denominator = 0\n",
        "    result = numerator / denominator\n",
        "except ZeroDivisionError:\n",
        "    print(\"Error: Cannot divide by zero.\")\n",
        "else:\n",
        "    print(f\"The result is {result}\")\n"
      ],
      "metadata": {
        "colab": {
          "base_uri": "https://localhost:8080/"
        },
        "id": "7czxGNgHLFle",
        "outputId": "7f5ef41a-0769-4f16-84ee-09cab3291b5c"
      },
      "execution_count": 30,
      "outputs": [
        {
          "output_type": "stream",
          "name": "stdout",
          "text": [
            "Error: Cannot divide by zero.\n"
          ]
        }
      ]
    },
    {
      "cell_type": "code",
      "source": [
        "#6. Write a Python program that logs an error message to a log file when a division by zero exception occurs."
      ],
      "metadata": {
        "id": "CfTI3b0QLLKW"
      },
      "execution_count": null,
      "outputs": []
    },
    {
      "cell_type": "code",
      "source": [
        "#answer:-\n",
        "import logging\n",
        "\n",
        "# Set up logging configuration\n",
        "logging.basicConfig(filename='error_log.txt', level=logging.ERROR,\n",
        "                    format='%(asctime)s - %(levelname)s - %(message)s')\n",
        "\n",
        "try:\n",
        "    # Attempt division\n",
        "    numerator = 10\n",
        "    denominator = 0\n",
        "    result = numerator / denominator\n",
        "except ZeroDivisionError as e:\n",
        "    # Log the error message to the log file\n",
        "    logging.error(f\"Error: Division by zero occurred. Details: {e}\")\n",
        "    print(\"An error occurred, please check the log file.\")\n",
        "else:\n",
        "    print(f\"The result is {result}\")\n"
      ],
      "metadata": {
        "colab": {
          "base_uri": "https://localhost:8080/"
        },
        "id": "7bHxCn1YLSSs",
        "outputId": "87ea14cb-c50c-42f3-b849-8cd21d43035c"
      },
      "execution_count": 31,
      "outputs": [
        {
          "output_type": "stream",
          "name": "stderr",
          "text": [
            "ERROR:root:Error: Division by zero occurred. Details: division by zero\n"
          ]
        },
        {
          "output_type": "stream",
          "name": "stdout",
          "text": [
            "An error occurred, please check the log file.\n"
          ]
        }
      ]
    },
    {
      "cell_type": "code",
      "source": [
        "#7.How do you log information at different levels (INFO, ERROR, WARNING) in Python using the logging module?"
      ],
      "metadata": {
        "id": "eIoTW6a7LV1f"
      },
      "execution_count": null,
      "outputs": []
    },
    {
      "cell_type": "code",
      "source": [
        "#answer:-\n",
        "import logging\n",
        "\n",
        "# Set up logging configuration\n",
        "logging.basicConfig(filename='app_log.txt', level=logging.DEBUG,\n",
        "                    format='%(asctime)s - %(levelname)s - %(message)s')\n",
        "\n",
        "# Logging an INFO message\n",
        "logging.info(\"This is an informational message.\")\n",
        "\n",
        "# Logging a WARNING message\n",
        "logging.warning(\"This is a warning message.\")\n",
        "\n",
        "# Logging an ERROR message\n",
        "logging.error(\"This is an error message.\")\n",
        "\n",
        "# Logging a DEBUG message (visible only if the log level is set to DEBUG or lower)\n",
        "logging.debug(\"This is a debug message.\")\n"
      ],
      "metadata": {
        "colab": {
          "base_uri": "https://localhost:8080/"
        },
        "id": "ZDomvz7LLix1",
        "outputId": "d3cde560-5571-4ada-e711-8e58c614f044"
      },
      "execution_count": 32,
      "outputs": [
        {
          "output_type": "stream",
          "name": "stderr",
          "text": [
            "WARNING:root:This is a warning message.\n",
            "ERROR:root:This is an error message.\n"
          ]
        }
      ]
    },
    {
      "cell_type": "code",
      "source": [
        "#8. Write a program to handle a file opening error using exception handling."
      ],
      "metadata": {
        "id": "T_9P7g8SLmk8"
      },
      "execution_count": null,
      "outputs": []
    },
    {
      "cell_type": "code",
      "source": [
        "#answer:-\n",
        "try:\n",
        "    # Attempt to open a file\n",
        "    with open('non_existent_file.txt', 'r') as file:\n",
        "        # Read the content of the file\n",
        "        content = file.read()\n",
        "        print(content)\n",
        "except FileNotFoundError:\n",
        "    # Handle the case when the file doesn't exist\n",
        "    print(\"Error: The file does not exist.\")\n",
        "except IOError:\n",
        "    # Handle other I/O related errors (e.g., permission issues)\n",
        "    print(\"Error: An I/O error occurred while trying to open the file.\")\n"
      ],
      "metadata": {
        "colab": {
          "base_uri": "https://localhost:8080/"
        },
        "id": "C29GuN9uMfnw",
        "outputId": "c18ead29-7ad6-4ac6-9d69-f236d3136172"
      },
      "execution_count": 33,
      "outputs": [
        {
          "output_type": "stream",
          "name": "stdout",
          "text": [
            "Error: The file does not exist.\n"
          ]
        }
      ]
    },
    {
      "cell_type": "code",
      "source": [
        "#9.  How can you read a file line by line and store its content in a list in Python?"
      ],
      "metadata": {
        "id": "Pn0_yRDeMjmV"
      },
      "execution_count": null,
      "outputs": []
    },
    {
      "cell_type": "code",
      "source": [
        "#answer:-\n",
        "# Open the file for reading\n",
        "with open('file.txt', 'r') as file:\n",
        "    # Read lines from the file and store them in a list\n",
        "    lines = file.readlines()\n",
        "\n",
        "# Printing the list containing the lines\n",
        "print(lines)\n"
      ],
      "metadata": {
        "colab": {
          "base_uri": "https://localhost:8080/"
        },
        "id": "HPloc1mEMw2Z",
        "outputId": "94db567a-45a9-4cea-fe2b-62260ba3e06d"
      },
      "execution_count": 34,
      "outputs": [
        {
          "output_type": "stream",
          "name": "stdout",
          "text": [
            "['Hello, world!']\n"
          ]
        }
      ]
    },
    {
      "cell_type": "code",
      "source": [
        "#Hello, world!\n",
        "#This is a test.\n",
        "#Python is great.\n",
        "\n",
        "#The lines list will contain:\n",
        "\n",
        "['Hello, world!\\n', 'This is a test.\\n', 'Python is great.\\n']\n"
      ],
      "metadata": {
        "colab": {
          "base_uri": "https://localhost:8080/"
        },
        "id": "H9LQ4f8lM2eW",
        "outputId": "88d3d12e-15c7-470d-cbe3-eb818db9af44"
      },
      "execution_count": 37,
      "outputs": [
        {
          "output_type": "execute_result",
          "data": {
            "text/plain": [
              "['Hello, world!\\n', 'This is a test.\\n', 'Python is great.\\n']"
            ]
          },
          "metadata": {},
          "execution_count": 37
        }
      ]
    },
    {
      "cell_type": "code",
      "source": [
        "#10. How can you append data to an existing file in Python?"
      ],
      "metadata": {
        "id": "0xz3sku9M-SZ"
      },
      "execution_count": null,
      "outputs": []
    },
    {
      "cell_type": "code",
      "source": [
        "#answer:-\n",
        "# Open the file in append mode\n",
        "with open('file.txt', 'a') as file:\n",
        "    # Append data to the file\n",
        "    file.write(\"This is the new data being appended.\\n\")\n"
      ],
      "metadata": {
        "id": "bXsNmYhUNT_b"
      },
      "execution_count": 38,
      "outputs": []
    },
    {
      "cell_type": "code",
      "source": [
        "#11. Write a Python program that uses a try-except block to handle an error when attempting to access a dictionary key that doesn't exist."
      ],
      "metadata": {
        "id": "x5Sm8_XONXjf"
      },
      "execution_count": null,
      "outputs": []
    },
    {
      "cell_type": "code",
      "source": [
        "#answer:-\n",
        "# Sample dictionary\n",
        "my_dict = {'name': 'Alice', 'age': 25}\n",
        "\n",
        "try:\n",
        "    # Attempt to access a non-existing key\n",
        "    value = my_dict['address']\n",
        "except KeyError as e:\n",
        "    # Handling the error if the key does not exist\n",
        "    print(f\"Error: The key '{e.args[0]}' does not exist in the dictionary.\")\n"
      ],
      "metadata": {
        "colab": {
          "base_uri": "https://localhost:8080/"
        },
        "id": "m71vsEZGNoRj",
        "outputId": "054a56b4-926d-4576-88cd-f1daf39d4496"
      },
      "execution_count": 40,
      "outputs": [
        {
          "output_type": "stream",
          "name": "stdout",
          "text": [
            "Error: The key 'address' does not exist in the dictionary.\n"
          ]
        }
      ]
    },
    {
      "cell_type": "code",
      "source": [
        "#12. Write a program that demonstrates using multiple except blocks to handle different types of exceptions."
      ],
      "metadata": {
        "id": "e2cf3EIFNr3K"
      },
      "execution_count": null,
      "outputs": []
    },
    {
      "cell_type": "code",
      "source": [
        "#answer:-\n",
        "try:\n",
        "    # Input from user for a number and divide by it\n",
        "    num1 = int(input(\"Enter the first number: \"))\n",
        "    num2 = int(input(\"Enter the second number: \"))\n",
        "\n",
        "    # Attempt to divide num1 by num2\n",
        "    result = num1 / num2\n",
        "    print(f\"The result of the division is: {result}\")\n",
        "\n",
        "except ValueError:\n",
        "    # Handling invalid input (non-integer values)\n",
        "    print(\"Error: Invalid input. Please enter a valid integer.\")\n",
        "except ZeroDivisionError:\n",
        "    # Handling division by zero\n",
        "    print(\"Error: Cannot divide by zero.\")\n",
        "except Exception as e:\n",
        "    # Handling any other unexpected exception\n",
        "    print(f\"An unexpected error occurred: {e}\")\n"
      ],
      "metadata": {
        "colab": {
          "base_uri": "https://localhost:8080/"
        },
        "id": "_-GWVFvMN1pP",
        "outputId": "ebc2bcd4-b91b-4857-ce93-a7bf9df12e5e"
      },
      "execution_count": 43,
      "outputs": [
        {
          "output_type": "stream",
          "name": "stdout",
          "text": [
            "Enter the first number: 12\n",
            "Enter the second number: 4\n",
            "The result of the division is: 3.0\n"
          ]
        }
      ]
    },
    {
      "cell_type": "code",
      "source": [
        "#13. How would you check if a file exists before attempting to read it in Python?"
      ],
      "metadata": {
        "id": "bu5QvSCYN7yh"
      },
      "execution_count": 43,
      "outputs": []
    },
    {
      "cell_type": "code",
      "source": [
        "#answer:-\n",
        "# 1. Using os.path.exists():\n",
        "\n",
        "import os\n",
        "\n",
        "# Check if the file exists\n",
        "file_path = 'file.txt'\n",
        "if os.path.exists(file_path):\n",
        "    with open(file_path, 'r') as file:\n",
        "        content = file.read()\n",
        "        print(content)\n",
        "else:\n",
        "    print(f\"Error: The file '{file_path}' does not exist.\")\n"
      ],
      "metadata": {
        "colab": {
          "base_uri": "https://localhost:8080/"
        },
        "id": "zrS_8574OO_4",
        "outputId": "c77d1ae5-2378-4cdc-df19-67b61157108a"
      },
      "execution_count": 45,
      "outputs": [
        {
          "output_type": "stream",
          "name": "stdout",
          "text": [
            "Hello, world!This is the new data being appended.\n",
            "\n"
          ]
        }
      ]
    },
    {
      "cell_type": "code",
      "source": [
        "# 2. Using pathlib.Path.exists():\n",
        "\n",
        "from pathlib import Path\n",
        "\n",
        "# Check if the file exists\n",
        "file_path = Path('file.txt')\n",
        "if file_path.exists():\n",
        "    with open(file_path, 'r') as file:\n",
        "        content = file.read()\n",
        "        print(content)\n",
        "else:\n",
        "    print(f\"Error: The file '{file_path}' does not exist.\")\n"
      ],
      "metadata": {
        "colab": {
          "base_uri": "https://localhost:8080/"
        },
        "id": "Qoax6TFIOXsJ",
        "outputId": "b9784ce0-d9fe-4e18-e710-96d262d6a616"
      },
      "execution_count": 47,
      "outputs": [
        {
          "output_type": "stream",
          "name": "stdout",
          "text": [
            "Hello, world!This is the new data being appended.\n",
            "\n"
          ]
        }
      ]
    },
    {
      "cell_type": "code",
      "source": [
        "#14. Write a program that uses the logging module to log both informational and error messages."
      ],
      "metadata": {
        "id": "WIaRvH_QOf4S"
      },
      "execution_count": null,
      "outputs": []
    },
    {
      "cell_type": "code",
      "source": [
        "#answer:-\n",
        "import logging\n",
        "\n",
        "# Setting up logging configuration\n",
        "logging.basicConfig(filename='app_log.txt', level=logging.DEBUG,\n",
        "                    format='%(asctime)s - %(levelname)s - %(message)s')\n",
        "\n",
        "# Logging an informational message\n",
        "logging.info(\"This is an informational message.\")\n",
        "\n",
        "try:\n",
        "    # Example code that raises an error (division by zero)\n",
        "    result = 10 / 0\n",
        "except ZeroDivisionError as e:\n",
        "    # Log an error message\n",
        "    logging.error(f\"Error: {e}\")\n",
        "\n",
        "# Log another informational message\n",
        "logging.info(\"Program execution completed.\")\n"
      ],
      "metadata": {
        "colab": {
          "base_uri": "https://localhost:8080/"
        },
        "id": "bnRP4V39O3m5",
        "outputId": "25aedafd-f29c-4078-ce88-229ce26c4f97"
      },
      "execution_count": 48,
      "outputs": [
        {
          "output_type": "stream",
          "name": "stderr",
          "text": [
            "ERROR:root:Error: division by zero\n"
          ]
        }
      ]
    },
    {
      "cell_type": "code",
      "source": [
        "#15.  Write a Python program that prints the content of a file and handles the case when the file is empty."
      ],
      "metadata": {
        "id": "BCB7ys8QO_kW"
      },
      "execution_count": null,
      "outputs": []
    },
    {
      "cell_type": "code",
      "source": [
        "#answer:-\n",
        "def print_file_content(file_path):\n",
        "    try:\n",
        "        # Open the file in read mode\n",
        "        with open(file_path, 'r') as file:\n",
        "            content = file.read()\n",
        "\n",
        "            # Checking if the file is empty\n",
        "            if not content:  # If content is an empty string, the file is empty\n",
        "                print(\"The file is empty.\")\n",
        "            else:\n",
        "                print(\"File Content:\")\n",
        "                print(content)\n",
        "    except FileNotFoundError:\n",
        "        # Handling the case when the file is not found\n",
        "        print(f\"Error: The file '{file_path}' does not exist.\")\n",
        "    except Exception as e:\n",
        "        # Handling other potential exceptions\n",
        "        print(f\"An error occurred: {e}\")\n",
        "\n",
        "# Specify the file path\n",
        "file_path = 'file.txt'\n",
        "\n",
        "# Call the function to print the file content\n",
        "print_file_content(file_path)\n"
      ],
      "metadata": {
        "colab": {
          "base_uri": "https://localhost:8080/"
        },
        "id": "asce66r9PEKy",
        "outputId": "0174b994-a880-4e81-ded6-8e20c7aabf5e"
      },
      "execution_count": 49,
      "outputs": [
        {
          "output_type": "stream",
          "name": "stdout",
          "text": [
            "File Content:\n",
            "Hello, world!This is the new data being appended.\n",
            "\n"
          ]
        }
      ]
    },
    {
      "cell_type": "code",
      "source": [
        "#16.  Demonstrate how to use memory profiling to check the memory usage of a small program."
      ],
      "metadata": {
        "id": "h2UP9INaPT8L"
      },
      "execution_count": null,
      "outputs": []
    },
    {
      "cell_type": "code",
      "source": [
        "#answer:-\n",
        "# Example Code for Memory Profiling:\n",
        "\n",
        "from memory_profiler import profile\n",
        "\n",
        "@profile\n",
        "def example_function():\n",
        "    # Initialize some variables to check memory usage\n",
        "    a = [i for i in range(100000)]  # List with 100,000 integers\n",
        "    b = [i * 2 for i in range(50000)]  # Another list with 50,000 integers\n",
        "    result = a[0] + b[0]\n",
        "    return result\n",
        "\n",
        "if __name__ == '__main__':\n",
        "    example_function()\n",
        "\n",
        "# Example Output:\n",
        "Line #    Mem usage    Increment   Line Contents\n",
        "================================================\n",
        "     4    10.742 MiB    0.000 MiB   @profile\n",
        "     5    10.742 MiB    0.000 MiB   def example_function():\n",
        "     6    11.406 MiB    0.664 MiB       a = [i for i in range(100000)]\n",
        "     7    11.750 MiB    0.344 MiB       b = [i * 2 for i in range(50000)]\n",
        "     8    11.750 MiB    0.000 MiB       result = a[0] + b[0]\n",
        "     9    11.750 MiB    0.000 MiB       return result\n",
        "\n"
      ],
      "metadata": {
        "id": "NI7NMu3fP79e"
      },
      "execution_count": null,
      "outputs": []
    },
    {
      "cell_type": "code",
      "source": [
        "#17. Write a Python program to create and write a list of numbers to a file, one number per line."
      ],
      "metadata": {
        "id": "2hfbAx3uQLXZ"
      },
      "execution_count": null,
      "outputs": []
    },
    {
      "cell_type": "code",
      "source": [
        "#answer:-\n",
        "# List of numbers to write to the file\n",
        "numbers = [1, 2, 3, 4, 5, 6, 7, 8, 9, 10]\n",
        "\n",
        "# Open the file in write mode\n",
        "with open('numbers.txt', 'w') as file:\n",
        "    for number in numbers:\n",
        "        file.write(f\"{number}\\n\")  # Write each number followed by a new line\n",
        "\n",
        "print(\"Numbers have been written to 'numbers.txt'.\")\n",
        "\n"
      ],
      "metadata": {
        "colab": {
          "base_uri": "https://localhost:8080/"
        },
        "id": "smTED4OjQQdF",
        "outputId": "4412ae8a-2acd-4ae3-ec01-8551c2dc94eb"
      },
      "execution_count": 57,
      "outputs": [
        {
          "output_type": "stream",
          "name": "stdout",
          "text": [
            "Numbers have been written to 'numbers.txt'.\n"
          ]
        }
      ]
    },
    {
      "cell_type": "code",
      "source": [
        "#18. How would you implement a basic logging setup that logs to a file with rotation after 1MB?"
      ],
      "metadata": {
        "id": "tgQ-KIENQf4u"
      },
      "execution_count": null,
      "outputs": []
    },
    {
      "cell_type": "code",
      "source": [
        "#answer:-\n",
        "import logging\n",
        "from logging.handlers import RotatingFileHandler\n",
        "\n",
        "# Set up a rotating file handler\n",
        "log_file = 'app.log'\n",
        "max_log_size = 1 * 1024 * 1024  # 1MB in bytes\n",
        "backup_count = 3  # Number of backup files to keep\n",
        "\n",
        "# Create a rotating file handler\n",
        "handler = RotatingFileHandler(log_file, maxBytes=max_log_size, backupCount=backup_count)\n",
        "\n",
        "# Set the logging level\n",
        "handler.setLevel(logging.DEBUG)\n",
        "\n",
        "# Create a formatter\n",
        "formatter = logging.Formatter('%(asctime)s - %(levelname)s - %(message)s')\n",
        "\n",
        "# Attach the formatter to the handler\n",
        "handler.setFormatter(formatter)\n",
        "\n",
        "# Set up the logger\n",
        "logger = logging.getLogger()\n",
        "logger.setLevel(logging.DEBUG)\n",
        "\n",
        "# Add the handler to the logger\n",
        "logger.addHandler(handler)\n",
        "\n",
        "# Example log messages\n",
        "logger.info(\"This is an informational message.\")\n",
        "logger.warning(\"This is a warning message.\")\n",
        "logger.error(\"This is an error message.\")\n"
      ],
      "metadata": {
        "colab": {
          "base_uri": "https://localhost:8080/"
        },
        "id": "u6c7KVe7QlCK",
        "outputId": "2edae41a-31a3-4a93-f273-4218164a1173"
      },
      "execution_count": 58,
      "outputs": [
        {
          "output_type": "stream",
          "name": "stderr",
          "text": [
            "INFO:root:This is an informational message.\n",
            "WARNING:root:This is a warning message.\n",
            "ERROR:root:This is an error message.\n"
          ]
        }
      ]
    },
    {
      "cell_type": "code",
      "source": [
        "#19. Write a program that handles both IndexError and KeyError using a try-except block."
      ],
      "metadata": {
        "id": "SFva4ZFSQrO6"
      },
      "execution_count": null,
      "outputs": []
    },
    {
      "cell_type": "code",
      "source": [
        "#answer:-\n",
        "def handle_errors():\n",
        "    # Example list and dictionary\n",
        "    my_list = [1, 2, 3]\n",
        "    my_dict = {'a': 1, 'b': 2, 'c': 3}\n",
        "\n",
        "    try:\n",
        "        # Trying to access an invalid index in the list\n",
        "        index_value = my_list[5]  # This will raise an IndexError\n",
        "        print(f\"List value at index 5: {index_value}\")\n",
        "\n",
        "        # Trying to access a non-existent key in the dictionary\n",
        "        key_value = my_dict['d']  # This will raise a KeyError\n",
        "        print(f\"Dictionary value for key 'd': {key_value}\")\n",
        "\n",
        "    except IndexError as index_err:\n",
        "        # Handling IndexError\n",
        "        print(f\"IndexError: {index_err}\")\n",
        "\n",
        "    except KeyError as key_err:\n",
        "        # Handling KeyError\n",
        "        print(f\"KeyError: {key_err}\")\n",
        "\n",
        "# Call the function to demonstrate error handling\n",
        "handle_errors()\n"
      ],
      "metadata": {
        "colab": {
          "base_uri": "https://localhost:8080/"
        },
        "id": "mHUCnlIsQ1Ia",
        "outputId": "1390c52a-59ef-404d-db57-72b04a6d59f4"
      },
      "execution_count": 59,
      "outputs": [
        {
          "output_type": "stream",
          "name": "stdout",
          "text": [
            "IndexError: list index out of range\n"
          ]
        }
      ]
    },
    {
      "cell_type": "code",
      "source": [
        "#20. How would you open a file and read its contents using a context manager in Python?"
      ],
      "metadata": {
        "id": "M6yAgjjpQ9nc"
      },
      "execution_count": null,
      "outputs": []
    },
    {
      "cell_type": "code",
      "source": [
        "#answer:-\n",
        "# Specify the file path\n",
        "file_path = 'example.txt'\n",
        "\n",
        "# Use the with statement to open the file and automatically close it\n",
        "with open(file_path, 'r') as file:\n",
        "    # Read the entire content of the file\n",
        "    content = file.read()\n",
        "\n",
        "    # Print the content\n",
        "    print(content)\n",
        "\n",
        "#Example Output:\n",
        "#Assuming example.txt contains:\n",
        "Hello, World!\n",
        "This is a sample file.\n"
      ],
      "metadata": {
        "id": "GOAuXzuXRDd8"
      },
      "execution_count": 61,
      "outputs": []
    },
    {
      "cell_type": "code",
      "source": [
        "#21. Write a Python program that reads a file and prints the number of occurrences of a specific word."
      ],
      "metadata": {
        "id": "g2qYVyeURG-O"
      },
      "execution_count": null,
      "outputs": []
    },
    {
      "cell_type": "code",
      "source": [
        "#answer:-\n",
        "def count_word_occurrences(file_path, word_to_search):\n",
        "    try:\n",
        "        # Initialize a counter for the word occurrences\n",
        "        word_count = 0\n",
        "\n",
        "        # Open the file using the with statement\n",
        "        with open(file_path, 'r') as file:\n",
        "            # Loop through each line in the file\n",
        "            for line in file:\n",
        "                # Count occurrences of the specific word in the line\n",
        "                word_count += line.lower().split().count(word_to_search.lower())\n",
        "\n",
        "        # Print the number of occurrences\n",
        "        print(f\"The word '{word_to_search}' appears {word_count} times in the file.\")\n",
        "\n",
        "    except FileNotFoundError:\n",
        "        print(f\"Error: The file '{file_path}' does not exist.\")\n",
        "    except Exception as e:\n",
        "        print(f\"An error occurred: {e}\")\n",
        "\n",
        "# Specify the file path and word to search\n",
        "file_path = 'example.txt'\n",
        "word_to_search = 'python'\n",
        "\n",
        "# Call the function to count word occurrences\n",
        "count_word_occurrences(file_path, word_to_search)\n"
      ],
      "metadata": {
        "colab": {
          "base_uri": "https://localhost:8080/"
        },
        "id": "FV58ml5KRdMd",
        "outputId": "17e70346-4c64-4193-e2e4-2167b8b01a9c"
      },
      "execution_count": 62,
      "outputs": [
        {
          "output_type": "stream",
          "name": "stdout",
          "text": [
            "Error: The file 'example.txt' does not exist.\n"
          ]
        }
      ]
    },
    {
      "cell_type": "code",
      "source": [
        "#22. How can you check if a file is empty before attempting to read its contents?"
      ],
      "metadata": {
        "id": "PLCGsUVZRhER"
      },
      "execution_count": null,
      "outputs": []
    },
    {
      "cell_type": "code",
      "source": [
        "#answer:-\n",
        "\n",
        "#Method 1: Check if File is Empty by Size\n",
        "import os\n",
        "\n",
        "def check_if_file_is_empty(file_path):\n",
        "    # Check if the file exists\n",
        "    if os.path.exists(file_path):\n",
        "        # Get the size of the file\n",
        "        file_size = os.path.getsize(file_path)\n",
        "\n",
        "        if file_size == 0:\n",
        "            print(\"The file is empty.\")\n",
        "        else:\n",
        "            print(\"The file is not empty.\")\n",
        "            # You can now safely read the file\n",
        "            with open(file_path, 'r') as file:\n",
        "                content = file.read()\n",
        "                print(content)\n",
        "    else:\n",
        "        print(f\"The file '{file_path}' does not exist.\")\n",
        "\n",
        "# Example usage\n",
        "file_path = 'example.txt'\n",
        "check_if_file_is_empty(file_path)\n"
      ],
      "metadata": {
        "colab": {
          "base_uri": "https://localhost:8080/"
        },
        "id": "83PWYf8VRmOM",
        "outputId": "a7407dd0-0124-4559-df40-59067010c177"
      },
      "execution_count": 63,
      "outputs": [
        {
          "output_type": "stream",
          "name": "stdout",
          "text": [
            "The file 'example.txt' does not exist.\n"
          ]
        }
      ]
    },
    {
      "cell_type": "code",
      "source": [
        "#Method 2: Check if File is Empty by Reading the First Line\n",
        "def check_if_file_is_empty(file_path):\n",
        "    try:\n",
        "        with open(file_path, 'r') as file:\n",
        "            first_line = file.readline()\n",
        "            if not first_line:  # If the first line is empty\n",
        "                print(\"The file is empty.\")\n",
        "            else:\n",
        "                print(\"The file is not empty.\")\n",
        "                # You can now safely read the file\n",
        "                file.seek(0)  # Reset file pointer to start\n",
        "                content = file.read()\n",
        "                print(content)\n",
        "    except FileNotFoundError:\n",
        "        print(f\"The file '{file_path}' does not exist.\")\n",
        "\n",
        "# Example usage\n",
        "file_path = 'example.txt'\n",
        "check_if_file_is_empty(file_path)\n"
      ],
      "metadata": {
        "colab": {
          "base_uri": "https://localhost:8080/"
        },
        "id": "9V108peERyyT",
        "outputId": "1c376e15-856d-4ab9-b193-957fd295c89b"
      },
      "execution_count": 64,
      "outputs": [
        {
          "output_type": "stream",
          "name": "stdout",
          "text": [
            "The file 'example.txt' does not exist.\n"
          ]
        }
      ]
    },
    {
      "cell_type": "code",
      "source": [
        "#23. Write a Python program that writes to a log file when an error occurs during file handling."
      ],
      "metadata": {
        "id": "ZnZe-ES4R3dF"
      },
      "execution_count": null,
      "outputs": []
    },
    {
      "cell_type": "code",
      "source": [
        "#answer:-\n",
        "import logging\n",
        "\n",
        "# Configure logging\n",
        "logging.basicConfig(filename='file_error_log.log',\n",
        "                    level=logging.ERROR,\n",
        "                    format='%(asctime)s - %(levelname)s - %(message)s')\n",
        "\n",
        "def write_to_file(file_path, content):\n",
        "    try:\n",
        "        # Trying to open the file and write content\n",
        "        with open(file_path, 'w') as file:\n",
        "            file.write(content)\n",
        "        print(f\"Content successfully written to {file_path}\")\n",
        "\n",
        "    except FileNotFoundError as fnf_error:\n",
        "        # Logging the error to the log file\n",
        "        logging.error(f\"FileNotFoundError: {fnf_error}\")\n",
        "        print(f\"Error: {fnf_error}\")\n",
        "\n",
        "    except PermissionError as perm_error:\n",
        "        # Logging the error to the log file\n",
        "        logging.error(f\"PermissionError: {perm_error}\")\n",
        "        print(f\"Error: {perm_error}\")\n",
        "\n",
        "    except Exception as error:\n",
        "        # Logging any other errors to the log file\n",
        "        logging.error(f\"Unexpected error: {error}\")\n",
        "        print(f\"An unexpected error occurred: {error}\")\n",
        "\n",
        "# Example usage\n",
        "file_path = 'example.txt'\n",
        "content = 'This is a test content that will be written to the file.'\n",
        "write_to_file(file_path, content)\n"
      ],
      "metadata": {
        "colab": {
          "base_uri": "https://localhost:8080/"
        },
        "id": "7jMAtyDVR7qK",
        "outputId": "a77fa7dd-3213-465e-ee8f-dedd651cc30b"
      },
      "execution_count": 66,
      "outputs": [
        {
          "output_type": "stream",
          "name": "stdout",
          "text": [
            "Content successfully written to example.txt\n"
          ]
        }
      ]
    }
  ]
}